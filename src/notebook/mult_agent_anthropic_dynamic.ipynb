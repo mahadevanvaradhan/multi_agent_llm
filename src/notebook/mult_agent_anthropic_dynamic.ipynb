{
 "cells": [
  {
   "cell_type": "code",
   "execution_count": 1,
   "id": "4d387fec-fc9c-4654-950b-f67f8afbeca8",
   "metadata": {},
   "outputs": [],
   "source": [
    "from fastapi import FastAPI, HTTPException\n",
    "from sqlalchemy import create_engine\n",
    "from sqlalchemy.orm import sessionmaker\n",
    "import re\n",
    "from openai import OpenAI\n",
    "import anthropic\n",
    "import os\n",
    "from fastapi.responses import JSONResponse\n",
    "import uuid\n",
    "import requests\n",
    "import json\n"
   ]
  },
  {
   "cell_type": "code",
   "execution_count": 2,
   "id": "790779d0-77ab-4c23-b94e-1c7e2bdc22b0",
   "metadata": {},
   "outputs": [],
   "source": [
    "OPEN_API_KEY = os.getenv(\"OPEN_API_KEY\")\n",
    "ANTHROPIC_API_KEY = os.getenv('ANTHROPIC_API_KEY')\n",
    "POSTGRES_USER=os.getenv(\"POSTGRES_USER\")\n",
    "POSTGRES_PASSWORD=os.getenv(\"POSTGRES_PASSWORD\")\n",
    "POSTGRES_DB=os.getenv(\"POSTGRES_DB\")\n",
    "POSTGRES_HOST=os.getenv(\"POSTGRES_HOST\")\n",
    "POSTGRES_PORT=os.getenv(\"POSTGRES_PORT\")"
   ]
  },
  {
   "cell_type": "code",
   "execution_count": 3,
   "id": "a65087ae-b7c8-4bfb-adb9-3da404e754e4",
   "metadata": {},
   "outputs": [],
   "source": [
    "from openai import OpenAI\n",
    "import numpy as np\n",
    "\n",
    "openai_client = OpenAI(\n",
    "    # defaults to os.environ.get(\"OPENAI_API_KEY\")\n",
    "    api_key=OPEN_API_KEY\n",
    ")\n",
    "\n",
    "anthropic_client = anthropic.Anthropic(api_key=ANTHROPIC_API_KEY)"
   ]
  },
  {
   "cell_type": "markdown",
   "id": "04ae959a-7f41-4465-9266-a24939e12d3f",
   "metadata": {},
   "source": [
    "## Data Load"
   ]
  },
  {
   "cell_type": "code",
   "execution_count": 4,
   "id": "f44bf01d",
   "metadata": {},
   "outputs": [],
   "source": [
    "# GET COMPELETE PRODUCT DATASET\n",
    "def get_products():\n",
    "    \"\"\"\n",
    "    Fetches all product details from the external API.\n",
    "\n",
    "    Args:\n",
    "        No ARGS\n",
    "\n",
    "    Returns:\n",
    "        A dictionary containing product details.\n",
    "    \"\"\"\n",
    "    try:\n",
    "        response = requests.get(f\"http://localhost:8000/products\")\n",
    "        response.raise_for_status()  # Raise an exception for bad status codes\n",
    "        return response.json()\n",
    "    except requests.exceptions.RequestException as e:\n",
    "        print(f\"Error fetching product details: {e}\")\n",
    "        return {\"error\": f\"No Product availabel\"}"
   ]
  },
  {
   "cell_type": "code",
   "execution_count": 5,
   "id": "3af2e828",
   "metadata": {},
   "outputs": [],
   "source": [
    "# GET COMPELETE HISTORY OF ORDER BY ORDER ID\n",
    "def get_orders(order_id: str):\n",
    "    \"\"\"\n",
    "    Fetches order details from the external API.\n",
    "\n",
    "    Args:\n",
    "        order_id: The unique identifier of the order.\n",
    "\n",
    "    Returns:\n",
    "        A dictionary containing order details and shipment history.\n",
    "    \"\"\"\n",
    "    try:\n",
    "        response = requests.get(f\"http://localhost:8000/orders/{order_id}\")\n",
    "        response.raise_for_status()  # Raise an exception for bad status codes\n",
    "        return response.json()\n",
    "    except requests.exceptions.RequestException as e:\n",
    "        print(f\"Error fetching order details: {e}\")\n",
    "        return {\"error\": f\"Failed to fetch shipment details for order ID {order_id}\"}\n",
    "    \n",
    "async def get_orders_handler(input_data):\n",
    "    order_id = input_data[\"order_id\"]\n",
    "    # Fetch and return order details based on the order_id\n",
    "    return {\"order_id\": order_id, \"details\": \"Order details go here\"}"
   ]
  },
  {
   "cell_type": "code",
   "execution_count": 6,
   "id": "92dbdae6",
   "metadata": {},
   "outputs": [],
   "source": [
    "# GET COMPELETE HISTORY OF SHIPMENT BY SHIPMENT ID\n",
    "def get_shipment_history(shipment_id: str):\n",
    "    \"\"\"\n",
    "    Fetches shipment details from the external API.\n",
    "\n",
    "    Args:\n",
    "        shipment_id: The unique identifier of the shipment.\n",
    "\n",
    "    Returns:\n",
    "        A dictionary containing order details and shipment history.\n",
    "    \"\"\"\n",
    "    try:\n",
    "        response = requests.get(f\"http://localhost:8000/shipments/{shipment_id}\")\n",
    "        response.raise_for_status()  # Raise an exception for bad status codes\n",
    "        return [response.json()]\n",
    "    except requests.exceptions.RequestException as e:\n",
    "        print(f\"Error fetching order details: {e}\")\n",
    "        return {\"error\": f\"Failed to fetch shipment details for shipment ID {shipment_id}\"}\n",
    "    \n",
    "async def get_shipment_handler(input_data):\n",
    "    shipment_id = input_data[\"shipment_id\"]\n",
    "    # Fetch and return order details based on the order_id\n",
    "    return {\"shipment_id\": shipment_id, \"details\": \"Shipment details go here\"}"
   ]
  },
  {
   "cell_type": "code",
   "execution_count": 7,
   "id": "a19ae89c-1b68-493c-a96e-d41e6df4190a",
   "metadata": {},
   "outputs": [],
   "source": [
    "# GET COMPELETE HISTORY OF SHIPMENT BY ORDER ID\n",
    "def get_order_with_shipment_history(order_id: str):\n",
    "    \"\"\"\n",
    "    Fetches order details from the external API.\n",
    "\n",
    "    Args:\n",
    "        order_id: The unique identifier of the order.\n",
    "\n",
    "    Returns:\n",
    "        A dictionary containing order details and shipment history.\n",
    "    \"\"\"\n",
    "    try:\n",
    "        response = requests.get(f\"http://localhost:8000/shipment_details/{order_id}\")\n",
    "        response.raise_for_status()  # Raise an exception for bad status codes\n",
    "        return response.json()\n",
    "    except requests.exceptions.RequestException as e:\n",
    "        print(f\"Error fetching order details: {e}\")\n",
    "        return {\"error\": f\"Failed to fetch order details for order ID {order_id}\"}\n",
    "    \n",
    "async def get_shipment_orders_handler(input_data):\n",
    "    order_id = input_data[\"order_id\"]\n",
    "    # Fetch and return order details based on the order_id\n",
    "    return {\"order_id\": order_id, \"details\": \"Shipment Order details go here\"}"
   ]
  },
  {
   "cell_type": "code",
   "execution_count": 8,
   "id": "1c341929-a741-476f-b590-380f97052a51",
   "metadata": {},
   "outputs": [],
   "source": [
    "knowledge_base = get_products()"
   ]
  },
  {
   "cell_type": "code",
   "execution_count": 9,
   "id": "e664a888-a2aa-45fd-a1a1-a269cb780867",
   "metadata": {},
   "outputs": [],
   "source": [
    "tools = [\n",
    "        {\n",
    "        \"name\": \"get_orders\",\n",
    "        \"description\": \"This function is used to provide details of a specific order by its unique Order ID. \\\n",
    "                        It includes details like User ID, Product Name, Cost, Quantity of order, Order Date, Shipment ID and current Status Of Order.\",\n",
    "        \"input_schema\": {\n",
    "            \"type\": \"object\",\n",
    "            \"properties\": {\n",
    "                \"order_id\": {\n",
    "                    \"type\": \"string\",\n",
    "                    \"description\": \"The Order ID of the order.\"\n",
    "                }\n",
    "            },\n",
    "            \"required\": [\"order_id\"]\n",
    "        }\n",
    "    },\n",
    "    {\n",
    "        \"name\": \"get_shipment_history\",\n",
    "        \"description\": \"This function is used to provide complete details of shipment history for a Shipment ID. \\\n",
    "            It helps to track an order from the date it is ordered and different stages of shippment involved ducring package shipments. \\\n",
    "            It also provides each stages of shipment like packed, dispatched, out for delivery, delivered, and returned along with date.\",\n",
    "        \"input_schema\": {\n",
    "            \"type\": \"object\",\n",
    "            \"properties\": {\n",
    "                \"shipment_id\": {\n",
    "                    \"type\": \"string\",\n",
    "                    \"description\": \"The Shipment ID of the shipment.\"\n",
    "                }\n",
    "            },\n",
    "            \"required\": [\"shipment_id\"]\n",
    "        }\n",
    "    },\n",
    "    {\n",
    "        \"name\": \"get_order_with_shipment_history\",\n",
    "        \"description\": \"This function is used to provide complete details of Order and shipment history for a Provide Order ID.\",\n",
    "        \"input_schema\": {\n",
    "            \"type\": \"object\",\n",
    "            \"properties\": {\n",
    "                \"order_id\": {\n",
    "                    \"type\": \"string\",\n",
    "                    \"description\": \"The Order ID of the order.\"\n",
    "                }\n",
    "            },\n",
    "            \"required\": [\"order_id\"]\n",
    "        }\n",
    "    }\n",
    "]"
   ]
  },
  {
   "cell_type": "code",
   "execution_count": 10,
   "id": "67bbc79c",
   "metadata": {},
   "outputs": [],
   "source": [
    "tool_handlers = {\n",
    "    \"get_orders\": get_orders_handler,\n",
    "    \"get_shipment_history\": get_shipment_handler,\n",
    "    \"get_order_with_shipment_history\": get_shipment_orders_handler,\n",
    "}\n"
   ]
  },
  {
   "cell_type": "code",
   "execution_count": 11,
   "id": "29f202b3-e9ea-448d-b00c-8ef445dabe2a",
   "metadata": {},
   "outputs": [],
   "source": [
    "tool_choice={\"type\": \"auto\"}"
   ]
  },
  {
   "cell_type": "markdown",
   "id": "b2c9676b-deb7-4f1b-80cc-ea74f3401c75",
   "metadata": {},
   "source": [
    "## CHAT BOT"
   ]
  },
  {
   "cell_type": "markdown",
   "id": "d074cc2a",
   "metadata": {},
   "source": [
    "### FUNCTION ONLY"
   ]
  },
  {
   "cell_type": "markdown",
   "id": "625a9513",
   "metadata": {},
   "source": [
    "### Function and Knowledge Base"
   ]
  },
  {
   "cell_type": "code",
   "execution_count": 12,
   "id": "c158effc",
   "metadata": {},
   "outputs": [],
   "source": [
    "async def anthropic_knowledge_function_call(user_query, knowledge_base, tools):\n",
    "    prompt = f\"\"\"\n",
    "    You are a support assistant. \n",
    "    Your job is to answer user queries based on the following knowledge base and use available tools when required.\n",
    "    Whenever customers enquire about their order status, ask for Order ID or Shipment ID if it is not available in the conversation.\n",
    "\n",
    "    Start with the summary of their order in a few lines, and provide details of their order in a new section.\n",
    "\n",
    "    Knowledge Base:\n",
    "    {knowledge_base}\n",
    "\n",
    "    Tools:\n",
    "    {json.dumps(tools, indent=2)}\n",
    "\n",
    "    User Query:\n",
    "    {user_query}\n",
    "\n",
    "    If the answer is directly available in the knowledge base, respond with it. \n",
    "    If you need to use a tool, specify the tool and its parameters.\n",
    "    Provide answers in readable and formatted text.\n",
    "    \"\"\"\n",
    "\n",
    "    # History and initial messages\n",
    "    history = []\n",
    "    messages = [\n",
    "        {\"role\": \"user\", \"content\": prompt}\n",
    "    ]\n",
    "\n",
    "    # Mocked `anthropic_client` for demonstration purposes\n",
    "    response = anthropic_client.messages.create(\n",
    "        model=\"claude-3-sonnet-20240229\",\n",
    "        max_tokens=4096,\n",
    "        tools=tools,\n",
    "        messages=messages\n",
    "    )\n",
    "\n",
    "    while response.stop_reason == \"tool_use\":\n",
    "        tool_use = next(block for block in response.content if block.type == \"tool_use\")\n",
    "        tool_name = tool_use.name\n",
    "        tool_input = tool_use.input\n",
    "\n",
    "        # Dynamically call the appropriate tool handler\n",
    "        tool_result = await tool_handlers[tool_name](tool_input)\n",
    "\n",
    "        messages = [\n",
    "            {\"role\": \"user\", \"content\": prompt},\n",
    "            {\"role\": \"assistant\", \"content\": response.content},\n",
    "            {\n",
    "                \"role\": \"user\",\n",
    "                \"content\": [\n",
    "                    {\n",
    "                        \"type\": \"tool_result\",\n",
    "                        \"tool_use_id\": tool_use.id,\n",
    "                        \"content\": str(tool_result),\n",
    "                    }\n",
    "                ],\n",
    "            },\n",
    "        ]\n",
    "\n",
    "        response = anthropic_client.messages.create(\n",
    "            model=\"claude-3-sonnet-20240229\",\n",
    "            max_tokens=4096,\n",
    "            tools=tools,\n",
    "            messages=messages\n",
    "        )\n",
    "\n",
    "    final_response = next(\n",
    "        (block.text for block in response.content if hasattr(block, \"text\")),\n",
    "        None,\n",
    "    )\n",
    "\n",
    "    return final_response\n"
   ]
  },
  {
   "cell_type": "code",
   "execution_count": 13,
   "id": "cd75d524",
   "metadata": {},
   "outputs": [
    {
     "name": "stdout",
     "output_type": "stream",
     "text": [
      "Summary:\n",
      "Based on the order details, the product ordered is the Apple iPhone 15 Pro. The iPhone 15 Pro is a premium smartphone that offers top-of-the-line performance, features, and design.\n",
      "\n",
      "Product Details:\n",
      "Product Name: Apple iPhone 15 Pro\n",
      "Description: The latest flagship smartphone from Apple, featuring a powerful A17 Bionic chip, a stunning Super Retina XDR display, and a triple-lens camera system.\n",
      "Usage: Communication, entertainment, productivity, and more. The iPhone 15 Pro can be used for making calls, browsing the internet, taking photos and videos, accessing productivity apps, and enjoying multimedia content.\n",
      "\n",
      "Shipment History:\n",
      "<shipment_history>\n",
      "Date Ordered: 2023-05-01\n",
      "Packed: 2023-05-02\n",
      "Dispatched: 2023-05-03  \n",
      "Out for Delivery: 2023-05-05\n",
      "Delivered: 2023-05-06\n",
      "</shipment_history>\n",
      "\n",
      "The order ORD1001 for the Apple iPhone 15 Pro was placed on 2023-05-01 and was successfully delivered on 2023-05-06 after going through the stages of packing, dispatch, and out for delivery.\n"
     ]
    }
   ],
   "source": [
    "user_query = \"Provide me complete order shipment details of ORD1001, also provide some usage of the product\"\n",
    "result = await anthropic_knowledge_function_call(user_query, knowledge_base, tools)\n",
    "print(result)"
   ]
  },
  {
   "cell_type": "code",
   "execution_count": 14,
   "id": "6c8def6d",
   "metadata": {},
   "outputs": [
    {
     "name": "stderr",
     "output_type": "stream",
     "text": [
      "/opt/anaconda3/envs/trainenv/lib/python3.12/site-packages/tqdm/auto.py:21: TqdmWarning: IProgress not found. Please update jupyter and ipywidgets. See https://ipywidgets.readthedocs.io/en/stable/user_install.html\n",
      "  from .autonotebook import tqdm as notebook_tqdm\n",
      "/opt/anaconda3/envs/trainenv/lib/python3.12/site-packages/gradio/components/chatbot.py:242: UserWarning: You have not specified a value for the `type` parameter. Defaulting to the 'tuples' format for chatbot messages, but this is deprecated and will be removed in a future version of Gradio. Please set type='messages' instead, which uses openai-style dictionaries with 'role' and 'content' keys.\n",
      "  warnings.warn(\n"
     ]
    },
    {
     "name": "stdout",
     "output_type": "stream",
     "text": [
      "* Running on local URL:  http://127.0.0.1:7862\n",
      "\n",
      "To create a public link, set `share=True` in `launch()`.\n"
     ]
    },
    {
     "data": {
      "text/html": [
       "<div><iframe src=\"http://127.0.0.1:7862/\" width=\"100%\" height=\"500\" allow=\"autoplay; camera; microphone; clipboard-read; clipboard-write;\" frameborder=\"0\" allowfullscreen></iframe></div>"
      ],
      "text/plain": [
       "<IPython.core.display.HTML object>"
      ]
     },
     "metadata": {},
     "output_type": "display_data"
    },
    {
     "data": {
      "text/plain": []
     },
     "execution_count": 14,
     "metadata": {},
     "output_type": "execute_result"
    }
   ],
   "source": [
    "import gradio as gr\n",
    "import json\n",
    "\n",
    "# Gradio async wrapper\n",
    "async def gradio_chatbot(user_query, history):\n",
    "    # Ensure history is initialized as a list\n",
    "    history = history or []\n",
    "    \n",
    "    # Call your function to get the response\n",
    "    response = await anthropic_knowledge_function_call(user_query, knowledge_base, tools)\n",
    "    \n",
    "    # Append the new query and response to history\n",
    "    history.append((user_query, response))\n",
    "    \n",
    "    # Return the updated history for chatbot UI and the same history as state\n",
    "    return history, history\n",
    "\n",
    "# Gradio interface setup\n",
    "with gr.Blocks() as demo:\n",
    "    chatbot_ui = gr.Chatbot(label=\"AI Chatbot with Tools\")\n",
    "    message = gr.Textbox(label=\"Your Query\", placeholder=\"Ask me anything...\", lines=1)\n",
    "    state = gr.State()  # For chat history\n",
    "    send_button = gr.Button(\"Send\")\n",
    "\n",
    "    send_button.click(\n",
    "        fn=gradio_chatbot,\n",
    "        inputs=[message, state],\n",
    "        outputs=[chatbot_ui, state],\n",
    "        api_name=\"chat\"\n",
    "    )\n",
    "\n",
    "# Launch the app\n",
    "demo.launch(server_port=7862)\n"
   ]
  },
  {
   "cell_type": "code",
   "execution_count": null,
   "id": "29fd8dc0",
   "metadata": {},
   "outputs": [],
   "source": []
  }
 ],
 "metadata": {
  "kernelspec": {
   "display_name": "Python 3 (ipykernel)",
   "language": "python",
   "name": "python3"
  },
  "language_info": {
   "codemirror_mode": {
    "name": "ipython",
    "version": 3
   },
   "file_extension": ".py",
   "mimetype": "text/x-python",
   "name": "python",
   "nbconvert_exporter": "python",
   "pygments_lexer": "ipython3",
   "version": "3.12.6"
  }
 },
 "nbformat": 4,
 "nbformat_minor": 5
}
